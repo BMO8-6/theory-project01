{
 "cells": [
  {
   "cell_type": "code",
   "execution_count": 5,
   "metadata": {},
   "outputs": [],
   "source": [
    "#! /usr/bin/env python3\n",
    "\n",
    "# Libraries\n",
    "import itertools"
   ]
  },
  {
   "cell_type": "markdown",
   "metadata": {},
   "source": [
    "### Define generator to read the next WFF from given file"
   ]
  },
  {
   "cell_type": "code",
   "execution_count": 6,
   "metadata": {},
   "outputs": [],
   "source": [
    "# reads in file and generates the next wff each time called on next()\n",
    "def ReadWff(path):\n",
    "    with open(path) as fp:\n",
    "        wff = []\n",
    "        for line in fp:\n",
    "            if line.startswith(('c')) and wff:\n",
    "                yield wff\n",
    "                wff = []\n",
    "            elif not line.startswith(('c', 'p')):\n",
    "                items = [int(x) for x in line.split(',')]\n",
    "                wff.append(items[:-1])\n",
    "\n",
    "# TODO I don't know whether we'll need the meta data for the wffs (num of vars, answer of S/U, etc) so I created this\n",
    "# pretty equivalent version of generator working with a class. Pick which one is needed.\n",
    "\n",
    "class CNF:\n",
    "    def __init__(self, problem_id, max_n_literals, n_vars, n_clauses, std_answer, wff):\n",
    "        self.problem_id = problem_id\n",
    "        self.max_n_literals = max_n_literals\n",
    "        self.n_vars = n_vars\n",
    "        self.n_clauses = n_clauses\n",
    "        self.std_answer = std_answer\n",
    "        self.wff = wff\n",
    "\n",
    "\n",
    "def ReadCNFObject(path):\n",
    "    with open(path) as fp:\n",
    "        wff = []\n",
    "        for line in fp:\n",
    "            if line.startswith(('c')):\n",
    "                if wff:\n",
    "                    yield CNF(int(problem_id), int(max_n_literals), int(n_vars), int(n_clauses), std_answer, wff)\n",
    "                    wff = []\n",
    "                _, problem_id, max_n_literals, std_answer = line.split(\" \")\n",
    "            elif line.startswith(('p')):\n",
    "                _, _, n_vars, n_clauses = line.split(\" \")\n",
    "            else:\n",
    "                items = [int(x) for x in line.split(',')]\n",
    "                wff.append(items[:-1])"
   ]
  },
  {
   "cell_type": "markdown",
   "metadata": {},
   "source": [
    "### Define generator to give the next input combination for a given WFF"
   ]
  },
  {
   "cell_type": "code",
   "execution_count": 30,
   "metadata": {},
   "outputs": [],
   "source": [
    "def GenerateInput(cnf):\n",
    "    for i in range(2 ** cnf.n_vars):\n",
    "        bin_str = bin(i)[2:].zfill(cnf.n_vars)\n",
    "        comb = []\n",
    "        for n in bin_str:\n",
    "            comb.append(1) if int(n)==1 else comb.append(-1)\n",
    "        yield comb"
   ]
  },
  {
   "cell_type": "markdown",
   "metadata": {},
   "source": [
    "### Test with opening file and getting input"
   ]
  },
  {
   "cell_type": "code",
   "execution_count": 28,
   "metadata": {},
   "outputs": [
    {
     "name": "stdout",
     "output_type": "stream",
     "text": [
      "[-1, -1, -1, -1]\n",
      "[-1, -1, -1, 1]\n",
      "[-1, -1, 1, -1]\n",
      "[-1, -1, 1, 1]\n",
      "[-1, 1, -1, -1]\n",
      "[-1, 1, -1, 1]\n",
      "[-1, 1, 1, -1]\n",
      "[-1, 1, 1, 1]\n",
      "[1, -1, -1, -1]\n",
      "[1, -1, -1, 1]\n",
      "[1, -1, 1, -1]\n",
      "[1, -1, 1, 1]\n",
      "[1, 1, -1, -1]\n",
      "[1, 1, -1, 1]\n",
      "[1, 1, 1, -1]\n",
      "[1, 1, 1, 1]\n"
     ]
    }
   ],
   "source": [
    "# Note: fetching input combs for all cnfs will LEAD TO CRASH\n",
    "# but the generator is proved to work\n",
    "\n",
    "path = \"kSAT.cnf\"\n",
    "cnf_gen = ReadCNFObject(path)\n",
    "\n",
    "for cnf in cnf_gen:\n",
    "    print(f\"\\nGenerating input for {cnf.problem_id}, with {cnf.n_vars} vars...\")\n",
    "    GenerateInput(cnf)"
   ]
  }
 ],
 "metadata": {
  "kernelspec": {
   "display_name": "Python 3.10.2 64-bit",
   "language": "python",
   "name": "python3"
  },
  "language_info": {
   "codemirror_mode": {
    "name": "ipython",
    "version": 3
   },
   "file_extension": ".py",
   "mimetype": "text/x-python",
   "name": "python",
   "nbconvert_exporter": "python",
   "pygments_lexer": "ipython3",
   "version": "3.10.2"
  },
  "orig_nbformat": 4,
  "vscode": {
   "interpreter": {
    "hash": "cea579fac9b739417e67e804994919c9aba228747dde09679883e510efbcb0f1"
   }
  }
 },
 "nbformat": 4,
 "nbformat_minor": 2
}
